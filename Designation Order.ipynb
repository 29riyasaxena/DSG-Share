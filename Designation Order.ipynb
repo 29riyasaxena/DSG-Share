{
 "cells": [
  {
   "cell_type": "code",
   "execution_count": 10,
   "id": "d18b38dc",
   "metadata": {},
   "outputs": [],
   "source": [
    "import pandas as pd\n",
    "import numpy as np"
   ]
  },
  {
   "cell_type": "code",
   "execution_count": null,
   "id": "10a62841",
   "metadata": {},
   "outputs": [],
   "source": [
    "df = pd.read_excel('Faculty_Database.xlxs')"
   ]
  },
  {
   "cell_type": "code",
   "execution_count": null,
   "id": "d245db5e",
   "metadata": {},
   "outputs": [],
   "source": [
    "designation_categories = [\"Professor Emeritus\",\"Professor Of Practice\", \"Retired Faculty\", \"HAG - Professor\", \"Professor\", \"Associate Professor\", \"Assistant Professor\"]\n",
    "df[\"Designation\"] = pd.Categorical(df[\"Designation\"], categories = designation_categories)\n",
    "df.sort_values(by = \"Designation\", inplace = True)"
   ]
  }
 ],
 "metadata": {
  "kernelspec": {
   "display_name": "Python 3 (ipykernel)",
   "language": "python",
   "name": "python3"
  },
  "language_info": {
   "codemirror_mode": {
    "name": "ipython",
    "version": 3
   },
   "file_extension": ".py",
   "mimetype": "text/x-python",
   "name": "python",
   "nbconvert_exporter": "python",
   "pygments_lexer": "ipython3",
   "version": "3.9.12"
  }
 },
 "nbformat": 4,
 "nbformat_minor": 5
}
